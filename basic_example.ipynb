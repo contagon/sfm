{
 "cells": [
  {
   "cell_type": "code",
   "execution_count": 21,
   "id": "fb106083-385b-4da6-a043-ef46e810d416",
   "metadata": {},
   "outputs": [],
   "source": [
    "import numpy as np\n",
    "import matplotlib.pyplot as plt\n",
    "import sympy as sy\n",
    "np.set_printoptions(suppress=True, precision=4)\n",
    "from scipy.linalg import expm, logm\n",
    "import scipy\n",
    "from numba import jit, njit\n",
    "\n",
    "from plot_helpers import plotCoordinateFrame, set_axes_equal"
   ]
  },
  {
   "cell_type": "code",
   "execution_count": 22,
   "id": "b758bf46-8b89-4f47-92ce-f3ae025534c6",
   "metadata": {},
   "outputs": [],
   "source": [
    "def match_points():\n",
    "    pass\n",
    "\n",
    "def find_kp():\n",
    "    pass\n",
    "\n",
    "def ransac():\n",
    "    pass\n",
    "\n",
    "def bundle_adjust(x_init):\n",
    "    pass"
   ]
  },
  {
   "cell_type": "code",
   "execution_count": 23,
   "id": "9b013f19-a0b2-41c4-a890-a7b72bd08846",
   "metadata": {},
   "outputs": [],
   "source": [
    "# Helpers\n",
    "@njit\n",
    "def skew(u):\n",
    "    return np.array([[   0, -u[2],  u[1]],\n",
    "                    [ u[2],     0, -u[0]],\n",
    "                    [-u[1],  u[0],     0]])\n",
    "\n",
    "@njit\n",
    "def rodrigues(r):\n",
    "    '''\n",
    "    Q3.2: Rodrigues formula.\n",
    "        Input:  r, a 3x1 vector\n",
    "        Output: R, a 3x3 rotation matrix\n",
    "    '''\n",
    "    theta = np.sqrt(r[0]**2 + r[1]**2 + r[2]**2)\n",
    "    u = r/ theta\n",
    "    \n",
    "    R = np.eye(3)*np.cos(theta) + (1- np.cos(theta))*np.outer(u,u) + skew(u)*np.sin(theta)\n",
    "    \n",
    "    return R\n",
    "\n",
    "@njit\n",
    "def invRodrigues(R):\n",
    "    '''\n",
    "    Q5.2: Inverse Rodrigues formula.\n",
    "        Input:  R, a 3x3 rotation matrix\n",
    "        Output: r, a 3x1 vector\n",
    "    '''\n",
    "    # ----- TODO -----\n",
    "    A = (R - R.T)/2\n",
    "    rho = np.array([A[2,1], A[0,2], A[1,0]])\n",
    "    \n",
    "    s = np.linalg.norm(rho)\n",
    "    c = (np.sum(np.diag(R)) -1)/2\n",
    "    \n",
    "    u = rho/s\n",
    "    theta = np.arctan2(s, c)\n",
    "    r = u*theta\n",
    "    \n",
    "    return r\n",
    "\n",
    "@njit\n",
    "def K_from_vec(x):\n",
    "    K = np.zeros((3,4))\n",
    "    K[0,0] = x[0]\n",
    "    K[1,1] = x[1]\n",
    "    K[2,2] = 1\n",
    "    K[0:2,2] = x[2:4]\n",
    "    return K\n",
    "\n",
    "@njit\n",
    "def vec_from_K(K):\n",
    "    return np.array([K[0,0], K[1,1], K[0,2], K[1,2]])\n",
    "\n",
    "@njit\n",
    "def SE3_from_vec(xi):\n",
    "    T = np.eye(4)\n",
    "    T[:3,:3] = rodrigues(xi[:3])\n",
    "    T[:3,3] = xi[3:]\n",
    "    return T\n",
    " \n",
    "@njit\n",
    "def vec_from_SE3(T):\n",
    "    return np.concatenate(( invRodrigues(T[:3,:3]), T[:3,3] ))\n",
    "\n",
    "@njit\n",
    "def to_linear(T, K, P):\n",
    "    return np.concatenate(( vec_from_SE3(T), vec_from_K(K), P.flatten() ))\n",
    "    \n",
    "@njit\n",
    "def from_linear(x):\n",
    "    T = SE3_from_vec(x[:6])\n",
    "    K = K_from_vec(x[6:10])\n",
    "    P = x[10:].reshape((N,3))\n",
    "    return T, K, P\n",
    "\n",
    "@njit\n",
    "def to_homogen(p):\n",
    "    return np.hstack(( p, np.ones((p.shape[0], 1)) ))\n",
    "\n",
    "@njit\n",
    "def from_homogen(p):\n",
    "    p /= p[:,-1:]\n",
    "    return p[:,:-1]\n",
    "\n",
    "@njit\n",
    "def h(P, K, T):\n",
    "    p_homo = K@T@to_homogen(P).T\n",
    "    return from_homogen(p_homo.T)"
   ]
  },
  {
   "cell_type": "markdown",
   "id": "a0a0ba96-92f0-48ee-ab05-ad44ad1678e4",
   "metadata": {},
   "source": [
    "### Create fake ground truth data"
   ]
  },
  {
   "cell_type": "code",
   "execution_count": 24,
   "id": "5aae51c8-18b8-463d-8fd9-9e3f21d503bf",
   "metadata": {},
   "outputs": [],
   "source": [
    "K_gt = np.array([[1520 ,    0.  ,  300, 0],\n",
    "               [   0.  , 1500 ,  250, 0],\n",
    "               [   0.  ,    0.  ,    1., 0]])\n",
    "\n",
    "# Make P the 2 sides of a box\n",
    "x = np.linspace(0,2,10)\n",
    "y = np.linspace(-1,1,10)\n",
    "X, Y = np.meshgrid(x,y)\n",
    "X = X.flatten()\n",
    "Y = Y.flatten()\n",
    "Z = -X + 5\n",
    "P1 = np.column_stack((X,Y,Z))\n",
    "\n",
    "x = np.linspace(-2,0,10)\n",
    "y = np.linspace(-1,1,10)\n",
    "X, Y = np.meshgrid(x,y)\n",
    "X = X.flatten()\n",
    "Y = Y.flatten()\n",
    "Z = X + 5\n",
    "P2 = np.column_stack((X,Y,Z))\n",
    "\n",
    "P_gt = np.vstack((P1,P2))\n",
    "N = P_gt.shape[0]\n",
    "\n",
    "# Ground truth poses\n",
    "T1_gt = np.eye(4)\n",
    "T2_gt = SE3_from_vec(np.array([.2, -10*np.pi/180, .1, 0.7, 0.3, 0.1]))"
   ]
  },
  {
   "cell_type": "code",
   "execution_count": 25,
   "id": "309a9e52-6648-4f98-9a9d-dea12bc7e0db",
   "metadata": {},
   "outputs": [
    {
     "data": {
      "text/plain": [
       "array([1520., 1500.,  300.,  250.])"
      ]
     },
     "execution_count": 25,
     "metadata": {},
     "output_type": "execute_result"
    }
   ],
   "source": [
    "vec_from_K(K_gt)"
   ]
  },
  {
   "cell_type": "markdown",
   "id": "b047c85e-62d3-4c2a-8ae8-f79604064759",
   "metadata": {},
   "source": [
    "### Apply nosie to data"
   ]
  },
  {
   "cell_type": "code",
   "execution_count": 15,
   "id": "d659f517-afd1-4cb4-9579-ddd39ac5110e",
   "metadata": {},
   "outputs": [],
   "source": [
    "# Initial guesses\n",
    "P = P_gt + np.random.normal(scale=0.3, size=P_gt.shape)\n",
    "T2 = T2_gt@SE3_from_vec(np.array([*np.random.normal(scale=0.2,size=3), *np.random.normal(scale=0.3,size=3)]))\n",
    "K = K_from_vec( vec_from_K(K_gt) + np.random.normal(scale=30) )\n",
    "\n",
    "# Generate data\n",
    "p1 = h(P_gt, K_gt, T1_gt) #+ np.random.normal(scale=1)\n",
    "p2 = h(P_gt, K_gt, T2_gt) #+ np.random.normal(scale=1)"
   ]
  },
  {
   "cell_type": "markdown",
   "id": "ec8938e5-3e11-4bf8-bd9f-e3a075eeb55a",
   "metadata": {},
   "source": [
    "### Setup problem!"
   ]
  },
  {
   "cell_type": "code",
   "execution_count": 16,
   "id": "b78f7887-202f-49c8-b527-f9af03bf44ef",
   "metadata": {},
   "outputs": [
    {
     "name": "stdout",
     "output_type": "stream",
     "text": [
      "5938.123574289118\n"
     ]
    }
   ],
   "source": [
    "def residuals(x):\n",
    "    # Extract info\n",
    "    T2, K, P = from_linear(x)\n",
    "       \n",
    "    # Compute expected measurements\n",
    "    p1_prime = h(P, K, np.eye(4))\n",
    "    p2_prime = h(P, K, T2)\n",
    "    \n",
    "    return np.concatenate(( (p1 - p1_prime).flatten(), (p2 - p2_prime).flatten() ))\n",
    "\n",
    "def residuals_normed(x):\n",
    "    return np.linalg.norm(residuals(x))\n",
    "\n",
    "x = to_linear(T2_gt, K_gt, P_gt)\n",
    "print(residuals_normed(to_linear(T2, K, P)))"
   ]
  },
  {
   "cell_type": "code",
   "execution_count": null,
   "id": "3657bfc3-8dc1-4873-96d7-c02984dc7c13",
   "metadata": {
    "tags": []
   },
   "outputs": [],
   "source": [
    "# %time result = scipy.optimize.minimize(residuals_normed, to_linear(T2, K, P), method=\"Powell\")\n",
    "%time result = scipy.optimize.least_squares(residuals, to_linear(T2, K, P), method='dogbox')\n",
    "print(result.cost)"
   ]
  },
  {
   "cell_type": "code",
   "execution_count": null,
   "id": "9b3f4cd0-b0c0-47e4-94ee-7a623081e1f1",
   "metadata": {},
   "outputs": [],
   "source": [
    "%matplotlib widget\n",
    "x = result.x.copy()\n",
    "x[3:6] *= 0.7 / x[3]\n",
    "x[10:] *= P_gt[0,2] / x[12]\n",
    "T2_result, K_result, P_result = from_linear(result.x)\n",
    "\n",
    "fig = plt.figure(figsize=(10,10))\n",
    "ax = fig.add_subplot(111, projection='3d')\n",
    "ax.scatter(P_gt[:,0], P_gt[:,1], P_gt[:,2], s=1)\n",
    "ax.scatter(P_result[:,0], P_result[:,1], P_result[:,2], s=1)\n",
    "plotCoordinateFrame(T1_gt, ax=ax)\n",
    "plotCoordinateFrame(T2_gt, ax=ax)\n",
    "plotCoordinateFrame(T2_result, ax=ax, k=\"--\")\n",
    "set_axes_equal(ax)\n",
    "ax.set_zlabel(\"Z\")\n",
    "ax.set_ylabel(\"Y\")\n",
    "ax.set_xlabel(\"X\")\n",
    "ax.view_init(-45, -90)\n",
    "plt.show()"
   ]
  },
  {
   "cell_type": "code",
   "execution_count": null,
   "id": "f6d729fc-adb1-4360-bfb0-fad221c49803",
   "metadata": {},
   "outputs": [],
   "source": []
  }
 ],
 "metadata": {
  "kernelspec": {
   "display_name": "sfm",
   "language": "python",
   "name": "sfm"
  },
  "language_info": {
   "codemirror_mode": {
    "name": "ipython",
    "version": 3
   },
   "file_extension": ".py",
   "mimetype": "text/x-python",
   "name": "python",
   "nbconvert_exporter": "python",
   "pygments_lexer": "ipython3",
   "version": "3.10.6"
  }
 },
 "nbformat": 4,
 "nbformat_minor": 5
}
