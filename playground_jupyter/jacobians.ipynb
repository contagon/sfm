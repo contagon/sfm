{
 "cells": [
  {
   "cell_type": "code",
   "execution_count": 1,
   "id": "73c1de0b-3153-4467-8e45-a94df9c33e65",
   "metadata": {},
   "outputs": [],
   "source": [
    "import numpy as np\n",
    "import matplotlib.pyplot as plt\n",
    "import sympy as sy\n",
    "np.set_printoptions(suppress=True, precision=4)\n",
    "from scipy.linalg import expm, logm\n",
    "import scipy\n",
    "from numba import jit, njit\n",
    "from functools import partial\n",
    "\n",
    "from plot_helpers import plotCoordinateFrame, set_axes_equal"
   ]
  },
  {
   "cell_type": "code",
   "execution_count": 2,
   "id": "6c9c5851-44c1-432f-9abf-396f78128501",
   "metadata": {},
   "outputs": [],
   "source": [
    "@njit\n",
    "def skew(u):\n",
    "    return np.array([[   0, -u[2],  u[1]],\n",
    "                    [ u[2],     0, -u[0]],\n",
    "                    [-u[1],  u[0],     0]])\n",
    "\n",
    "@njit\n",
    "def K_from_vec(x):\n",
    "    K = np.zeros((3,4))\n",
    "    K[0,0] = x[0]\n",
    "    K[1,1] = x[1]\n",
    "    K[0,1] = x[2]\n",
    "    K[2,2] = 1\n",
    "    K[0:2,2] = x[3:5]\n",
    "    return K\n",
    "\n",
    "@njit\n",
    "def vec_from_K(K):\n",
    "    return np.array([K[0,0], K[1,1], K[0,1], K[0,2], K[1,2]])\n",
    "\n",
    "@njit\n",
    "def SE3_from_vec(u):\n",
    "    # https://www.ethaneade.com/lie.pdf\n",
    "    w = u[:3]\n",
    "    p = u[3:]\n",
    "    wx = skew(w)\n",
    "    theta = np.linalg.norm(w)\n",
    "    if np.abs(theta) < 0.0001:\n",
    "        R = np.eye(3) + wx + wx@wx/2 + wx@wx@wx/6\n",
    "        V = np.eye(3) + wx/2 + wx@wx/6 + wx@wx@wx/24\n",
    "    \n",
    "    else:\n",
    "        A = np.sin(theta) / theta\n",
    "        B = (1 - np.cos(theta)) / theta**2\n",
    "        C = (1 - A) / theta**2\n",
    "\n",
    "        R = np.eye(3) + A*wx + B*wx@wx\n",
    "        V = np.eye(3) + B*wx + C*wx@wx\n",
    "\n",
    "    T = np.hstack((R, (V@p).reshape((3,1))))\n",
    "    T = np.vstack(( T, np.array([[0.0,0,0,1]]) ))\n",
    "    return T\n",
    " \n",
    "@njit\n",
    "def vec_from_SE3(T):\n",
    "    # https://www.ethaneade.com/lie.pdf\n",
    "    xi = np.zeros(6)\n",
    "    \n",
    "    # Log on the rotations\n",
    "    R = T[:3,:3]\n",
    "    p = T[:3,3].copy()\n",
    "    theta = np.arccos( (np.trace(R) - 1) / 2 )\n",
    "    x = (R - R.T)*theta / (2*np.sin(theta))\n",
    "    \n",
    "    xi[0] = R[2,1] - R[1,2]\n",
    "    xi[1] = R[0,2] - R[2,0]\n",
    "    xi[2] = R[1,0] - R[0,1]\n",
    "    \n",
    "    if theta != 0:\n",
    "        xi[:3] *= theta / (2*np.sin(theta))\n",
    "        \n",
    "    # And on the translation\n",
    "    wx = skew(xi[:3])\n",
    "    if theta < .0001:\n",
    "        V = np.eye(3) + wx/2 + wx@wx/6 + wx@wx@wx/24\n",
    "    else:\n",
    "        A = np.sin(theta) / theta\n",
    "        B = (1 - np.cos(theta)) / theta**2\n",
    "        C = (1 - A) / theta**2\n",
    "        V = np.eye(3) + B*wx + C*wx@wx\n",
    "        \n",
    "    Vinv = np.linalg.inv(V)\n",
    "    xi[3:] = Vinv@p\n",
    "    return xi\n",
    "\n",
    "@njit\n",
    "def to_homogen(p):\n",
    "    return np.hstack(( p, np.ones((p.shape[0], 1)) ))\n",
    "\n",
    "@njit\n",
    "def from_homogen(p):\n",
    "    p /= p[:,-1:]\n",
    "    return p[:,:-1]"
   ]
  },
  {
   "cell_type": "code",
   "execution_count": 3,
   "id": "dfeb6f9e-b912-4f0d-a034-e108072508ef",
   "metadata": {},
   "outputs": [],
   "source": [
    "def nder(f, x, eps=1e-4):\n",
    "    fx = f(x)\n",
    "    N = x.shape[0]\n",
    "    M = fx.shape[0]\n",
    "    d = np.zeros((M,N))\n",
    "    for i in range(N):\n",
    "        temp = x.copy()\n",
    "        temp[i] += eps\n",
    "        d[:,i] = (f(temp) - fx) / eps\n",
    "        \n",
    "    return d"
   ]
  },
  {
   "cell_type": "markdown",
   "id": "07191efc-61f5-446e-a19c-1792d092896b",
   "metadata": {},
   "source": [
    "## Test seperate derivatives"
   ]
  },
  {
   "cell_type": "code",
   "execution_count": 4,
   "id": "a38073ce-1242-402f-866f-b5ae2e6d8165",
   "metadata": {},
   "outputs": [
    {
     "name": "stdout",
     "output_type": "stream",
     "text": [
      "dg / dp\n",
      "Analytical\n",
      " [[ 1.  0. -3.]\n",
      " [ 0.  1. -2.]]\n",
      "Numerical\n",
      " [[ 1.  0. -3.]\n",
      " [ 0.  1. -2.]]\n"
     ]
    }
   ],
   "source": [
    "g = lambda p: np.array([p[0]/p[2], p[1]/p[2]])\n",
    "g_p = lambda p: np.array([[1/p[2], 0, -p[0]/p[2]**2],\n",
    "                         [0, 1/p[2], -p[1]/p[2]**2]])\n",
    "\n",
    "\n",
    "p = np.array([3,2,1.])\n",
    "a = g_p(p)\n",
    "n = nder(g, p, 1e-7)\n",
    "print(\"dg / dp\")\n",
    "print(\"Analytical\\n\", a)\n",
    "print(\"Numerical\\n\", n)\n",
    "assert(np.allclose(a,n))"
   ]
  },
  {
   "cell_type": "code",
   "execution_count": 17,
   "id": "deb947a0-f1ae-460b-a6e4-e49c92f2fbc5",
   "metadata": {},
   "outputs": [
    {
     "name": "stdout",
     "output_type": "stream",
     "text": [
      "df / dP\n",
      "Analytical\n",
      " [[1544.1196 -119.4307   42.7913]\n",
      " [ 167.5254 1509.9159  -67.7443]\n",
      " [   0.1821    0.1887    0.965 ]]\n",
      "Numerical\n",
      " [[1544.1196 -119.4307   42.7913]\n",
      " [ 167.5254 1509.9159  -67.7443]\n",
      " [   0.1821    0.1887    0.965 ]]\n"
     ]
    }
   ],
   "source": [
    "@njit\n",
    "def f(Kvec, Tvec, P, Tdelta=None):\n",
    "    if Tdelta is None:\n",
    "        return K_from_vec(Kvec)@SE3_from_vec(Tvec)@np.append(P, 1)\n",
    "    else:\n",
    "        return K_from_vec(Kvec)@SE3_from_vec(Tvec)@SE3_from_vec(Tdelta)@np.append(P, 1)\n",
    "\n",
    "\n",
    "f_P = lambda Kvec, Tvec, P : K_from_vec(Kvec)[:,:3]@SE3_from_vec(Tvec)[:3,:3]\n",
    "\n",
    "Kvec = np.array([1520., 1500.,  0.3, 300.,  250.])\n",
    "Tvec = np.array([.2, -10*np.pi/180, .1, 0.7, 0.3, 0.1])\n",
    "P = np.array([3, 2, 1.])\n",
    "\n",
    "a = f_P(Kvec, Tvec, P)\n",
    "n = nder(lambda Pp : f(Kvec, Tvec, Pp), P, 1e-7)\n",
    "print(\"df / dP\")\n",
    "print(\"Analytical\\n\", a)\n",
    "print(\"Numerical\\n\", n)\n",
    "assert(np.allclose(a,n))"
   ]
  },
  {
   "cell_type": "code",
   "execution_count": 12,
   "id": "404cbc4a-96d0-4089-98c8-7fe5380327ef",
   "metadata": {},
   "outputs": [
    {
     "name": "stdout",
     "output_type": "stream",
     "text": [
      "df / dK\n",
      "Analytical\n",
      " [[3.2158 0.     2.3063 2.0795 0.    ]\n",
      " [0.     2.3063 0.     0.     2.0795]\n",
      " [0.     0.     0.     0.     0.    ]]\n",
      "Numerical\n",
      " [[3.2158 0.     2.3063 2.0795 0.    ]\n",
      " [0.     2.3063 0.     0.     2.0795]\n",
      " [0.     0.     0.     0.     0.    ]]\n"
     ]
    }
   ],
   "source": [
    "def f_K(Kvec, Tvec, P):\n",
    "    Pp = SE3_from_vec(Tvec)@np.append(P,1)\n",
    "    return np.array([[Pp[0],     0, Pp[1], Pp[2],     0],\n",
    "                     [    0, Pp[1],     0,     0, Pp[2]],\n",
    "                     [    0,     0,     0,     0,     0]])\n",
    "\n",
    "a = f_K(Kvec, Tvec, P)\n",
    "n = nder(lambda Kk : f(Kk, Tvec, P), Kvec, 1e-7)\n",
    "print(\"df / dK\")\n",
    "print(\"Analytical\\n\", a)\n",
    "print(\"Numerical\\n\", n)\n",
    "assert(np.allclose(a,n))"
   ]
  },
  {
   "cell_type": "code",
   "execution_count": 13,
   "id": "bab9165d-2616-4f11-8d79-03d5d233e58d",
   "metadata": {},
   "outputs": [
    {
     "name": "stdout",
     "output_type": "stream",
     "text": [
      "df / dT\n",
      "Analytical\n",
      " [[  205.0133  1415.7458 -3446.5314  1544.1196  -119.4307    42.7913]\n",
      " [-1645.4045   370.7584  4194.6968   167.5254  1509.9159   -67.7443]\n",
      " [    1.7413    -2.7129     0.2017     0.1821     0.1887     0.965 ]]\n",
      "Numerical\n",
      " [[  205.0133  1415.7456 -3446.5316  1544.1196  -119.4307    42.7913]\n",
      " [-1645.4047   370.7583  4194.6967   167.5254  1509.9159   -67.7443]\n",
      " [    1.7413    -2.7129     0.2017     0.1821     0.1887     0.965 ]]\n"
     ]
    }
   ],
   "source": [
    "def f_T(Kvec, Tvec, P):\n",
    "    R = SE3_from_vec(Tvec)[:3,:3]\n",
    "    mat = np.hstack(( -R@skew(P), R ))\n",
    "    # mat = np.vstack(( mat, np.zeros((1,6)) ))\n",
    "    return K_from_vec(Kvec)[:3,:3]@mat\n",
    "\n",
    "a = f_T(Kvec, Tvec, P)\n",
    "n = nder(lambda Tdelta : f(Kvec, Tvec, P, Tdelta), np.zeros(6), 1e-7)\n",
    "print(\"df / dT\")\n",
    "print(\"Analytical\\n\", a)\n",
    "print(\"Numerical\\n\", n)\n",
    "assert(np.allclose(a,n))"
   ]
  },
  {
   "cell_type": "markdown",
   "id": "6feaf768-1d65-4e64-9953-082f55d86214",
   "metadata": {
    "tags": []
   },
   "source": [
    "## Full Jacobians together"
   ]
  },
  {
   "cell_type": "code",
   "execution_count": 14,
   "id": "b7be93e7-4a86-4e4f-b960-0724a4ff07f7",
   "metadata": {},
   "outputs": [
    {
     "name": "stdout",
     "output_type": "stream",
     "text": [
      "dg / dP\n",
      "Analytical\n",
      " [[  510.3649  -297.9326 -1209.5879]\n",
      " [  -87.0456   552.4868  -920.6054]]\n",
      "Numerical\n",
      " [[  510.3649  -297.9326 -1209.5878]\n",
      " [  -87.0456   552.4868  -920.6053]]\n"
     ]
    }
   ],
   "source": [
    "a = g_p(f(Kvec, Tvec, P))@f_P(Kvec, Tvec, P)\n",
    "n = nder(lambda Pp : g(f(Kvec, Tvec, Pp)), P, 1e-7)\n",
    "print(\"dg / dP\")\n",
    "print(\"Analytical\\n\", a)\n",
    "print(\"Numerical\\n\", n)\n",
    "assert(np.allclose(a,n))"
   ]
  },
  {
   "cell_type": "code",
   "execution_count": 15,
   "id": "3e1d8fad-beb5-42b7-9c43-87cd95885344",
   "metadata": {},
   "outputs": [
    {
     "name": "stdout",
     "output_type": "stream",
     "text": [
      "dg / dK\n",
      "Analytical\n",
      " [[1.5464 0.     1.1091 1.     0.    ]\n",
      " [0.     1.1091 0.     0.     1.    ]]\n",
      "Numerical\n",
      " [[1.5464 0.     1.1091 1.     0.    ]\n",
      " [0.     1.1091 0.     0.     1.    ]]\n"
     ]
    }
   ],
   "source": [
    "a = g_p(f(Kvec, Tvec, P))@f_K(Kvec, Tvec, P)\n",
    "n = nder(lambda Kk : g(f(Kk, Tvec, P)), Kvec, 1e-7)\n",
    "print(\"dg / dK\")\n",
    "print(\"Analytical\\n\", a)\n",
    "print(\"Numerical\\n\", n)\n",
    "assert(np.allclose(a,n))"
   ]
  },
  {
   "cell_type": "code",
   "execution_count": 16,
   "id": "884c417c-742f-4d58-a4d7-595ed5a467b9",
   "metadata": {},
   "outputs": [
    {
     "name": "stdout",
     "output_type": "stream",
     "text": [
      "dg / dK\n",
      "Analytical\n",
      " [[-2121.2432  4139.1285 -1914.5274   510.3649  -297.9326 -1209.5879]\n",
      " [-2393.6976  2674.7705  1831.5517   -87.0456   552.4868  -920.6054]]\n",
      "Numerical\n",
      " [[-2121.243   4139.1291 -1914.5274   510.3649  -297.9326 -1209.5878]\n",
      " [-2393.6974  2674.7709  1831.5516   -87.0456   552.4868  -920.6053]]\n"
     ]
    }
   ],
   "source": [
    "a = g_p(f(Kvec, Tvec, P))@f_T(Kvec, Tvec, P)\n",
    "n = nder(lambda Tdelta : g(f(Kvec, Tvec, P, Tdelta)), np.zeros(6), 1e-7)\n",
    "print(\"dg / dK\")\n",
    "print(\"Analytical\\n\", a)\n",
    "print(\"Numerical\\n\", n)\n",
    "assert(np.allclose(a,n))"
   ]
  },
  {
   "cell_type": "code",
   "execution_count": 18,
   "id": "58e46032-3edd-4ed6-9fe7-57c46f57328d",
   "metadata": {},
   "outputs": [],
   "source": [
    "x = np.arange((10)).reshape((5,2))"
   ]
  },
  {
   "cell_type": "code",
   "execution_count": 19,
   "id": "08f98611-865c-4598-8c75-f7c59d83a51f",
   "metadata": {},
   "outputs": [
    {
     "data": {
      "text/plain": [
       "array([[0, 1],\n",
       "       [2, 3],\n",
       "       [4, 5],\n",
       "       [6, 7],\n",
       "       [8, 9]])"
      ]
     },
     "execution_count": 19,
     "metadata": {},
     "output_type": "execute_result"
    }
   ],
   "source": [
    "x"
   ]
  },
  {
   "cell_type": "code",
   "execution_count": 20,
   "id": "8cd64c8c-0416-4838-bd6e-736c179e447c",
   "metadata": {},
   "outputs": [
    {
     "data": {
      "text/plain": [
       "array([0, 1, 2, 3, 4, 5, 6, 7, 8, 9])"
      ]
     },
     "execution_count": 20,
     "metadata": {},
     "output_type": "execute_result"
    }
   ],
   "source": [
    "x.flatten()"
   ]
  },
  {
   "cell_type": "code",
   "execution_count": null,
   "id": "7b0cbc37-4bc3-4ec8-8153-39e20592bec4",
   "metadata": {},
   "outputs": [],
   "source": []
  }
 ],
 "metadata": {
  "kernelspec": {
   "display_name": "sfm",
   "language": "python",
   "name": "sfm"
  },
  "language_info": {
   "codemirror_mode": {
    "name": "ipython",
    "version": 3
   },
   "file_extension": ".py",
   "mimetype": "text/x-python",
   "name": "python",
   "nbconvert_exporter": "python",
   "pygments_lexer": "ipython3",
   "version": "3.10.6"
  }
 },
 "nbformat": 4,
 "nbformat_minor": 5
}
